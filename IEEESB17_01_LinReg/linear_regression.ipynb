{
 "cells": [
  {
   "cell_type": "code",
   "execution_count": 2,
   "metadata": {
    "collapsed": true
   },
   "outputs": [],
   "source": [
    "##########################\n",
    "# LINEAR REGRESSION MODELS\n",
    "##########################\n",
    "#  ^\n",
    "#  |       °/\n",
    "#  |       /°\n",
    "#  |     °/ °\n",
    "#  |   ° /  °\n",
    "#  |    / °\n",
    "#  | ° /°\n",
    "#  | °/°\n",
    "# -+----------------->\n",
    "#  |\n",
    "\n",
    "\n",
    "#######################\n",
    "# 1. IMPORTANT PACKAGES\n",
    "#######################\n",
    "\n",
    "# os (Operative Systems) is a Python package useful to access a lot of operative system functionalities (change folder,\n",
    "# checking existence of files and directories, creating files and directories, etc.). Its functions work independently\n",
    "# of the operative system in use, thus it helps programmers to develop Python scripts runnable both in DOS and UNIX-like\n",
    "# OS.\n",
    "import os\n",
    "\n",
    "# as the name says, the random package deals with randomness, more in general with combinatorics stuff.\n",
    "import random\n",
    "\n",
    "# NumPy (Numerical Python) is one of the most important packages to perform scientific computations in Python. It's the\n",
    "# starting point for many other Python scientific packages. The efficiency of NumPy relies on the fact that it\n",
    "# relies on the C routines of the BLAS library.\n",
    "\n",
    "# the as command renames \"numpy\" with \"np\" so that the programmer can call numpy functions writing np.<function_name>\n",
    "# instead of the entire name. This is a common practice in Python.\n",
    "import numpy as np\n",
    "\n",
    "# SciPy (Scientific Python) is a package built on NumPy containing a lot of high-level algorithms from a variety of\n",
    "# scientific fields (image and audio processing, linear algebra, statistics, etc.)\n",
    "\n",
    "# stats is a Python module used to perform statistics computation.\n",
    "# SciPy site advices to import its modules using the from scipy import <module_name> statement\n",
    "from scipy import stats\n",
    "\n",
    "# pandas is a package built on NumPy that is more focused on Data Analysis and Data Manipulation. It won't be covered\n",
    "# too much in this lesson\n",
    "import pandas as pd\n",
    "\n",
    "# Matplotlib is a package built on NumPy gives access to graphical features to be used to draw plots\n",
    "import matplotlib.pyplot as plt\n",
    "\n",
    "# sklearn (scikit-learn) is a package built on SciPy, Pandas, Matplotlib, containing a huge number of machine learning\n",
    "# algorithms, divided in six groups: classification, regression, clustering, dimensionality reduction, model selection,\n",
    "# preprocessing.\n",
    "\n",
    "# linear_model is a module used to perform linear regression\n",
    "from sklearn import linear_model\n",
    "\n",
    "# global variables. The user can change these variables according to its needs\n",
    "ROOT = os.path.expanduser(\"~\")\n",
    "DATA_DIR = ROOT + \"/Datasets/Public\"\n",
    "FAITHFUL_DATA = DATA_DIR + \"/old_faithful.txt\"\n",
    "\n",
    "# set a seed to test if algorithms work\n",
    "np.random.seed(314)"
   ]
  },
  {
   "cell_type": "code",
   "execution_count": 3,
   "metadata": {},
   "outputs": [],
   "source": [
    "#################\n",
    "# 2. READING DATA\n",
    "#################\n",
    "\n",
    "# with files utilities (generate a list of lists of floats, can be done also with csv reader)\n",
    "# useful if you want to preprocess the data in some particular ways, that would be a costly operation if\n",
    "# performed directly on a NumPy array\n",
    "with open(os.path.normpath(FAITHFUL_DATA), 'r') as data_file:\n",
    "    data = [[float(x) for x in str.split(line)] for line in list(data_file)[3:]]"
   ]
  },
  {
   "cell_type": "code",
   "execution_count": 4,
   "metadata": {},
   "outputs": [],
   "source": [
    "# with Pandas (generate a Pandas DataFrame)\n",
    "data = pd.read_csv(filepath_or_buffer=FAITHFUL_DATA, delim_whitespace=True, skip_blank_lines=True, comment='#')"
   ]
  },
  {
   "cell_type": "code",
   "execution_count": 5,
   "metadata": {},
   "outputs": [],
   "source": [
    "# with NumPy (generate a NumPy array)\n",
    "data = np.genfromtxt(FAITHFUL_DATA, skip_header=3)  # returns a NumPy array\n",
    "\n",
    "# shuffle data and divide between train and test sets.\n",
    "# N.B. When working on real problems, remember to create a validation set too!\n",
    "np.random.shuffle(data)\n",
    "train = data[:200, :]   # shape: (200, 2)\n",
    "test = data[200:, :]    # shape: (72, 2)"
   ]
  },
  {
   "cell_type": "code",
   "execution_count": 6,
   "metadata": {},
   "outputs": [
    {
     "data": {
      "image/png": "[encoded data removed]",
      "text/plain": [
       "<matplotlib.figure.Figure at 0x7f98ff97cb70>"
      ]
     },
     "metadata": {},
     "output_type": "display_data"
    },
    {
     "name": "stdout",
     "output_type": "stream",
     "text": [
      "intercept: 34.0384, slope: 10.5456\nR^2 statistic: 0.814287, p-value: 2.58543e-74\n"
     ]
    }
   ],
   "source": [
    "#################################\n",
    "# 3. PERFORMING LINEAR REGRESSION\n",
    "#################################\n",
    "\n",
    "# with SciPy\n",
    "# linregress accepts 2 parameters: x and y, however only x can be passed, provided it is 2-dimensional and one dimension\n",
    "# has length 2\n",
    "slope, intercept, r_value, p_value, _ = stats.linregress(train)\n",
    "\n",
    "plt.plot(test[:, 0], test[:, 1], 'o', color='cyan', label='original data')\n",
    "plt.plot(test[:, 0], intercept + slope * test[:, 0], 'r', color='red', linewidth=3, label='fitted line')\n",
    "plt.legend()\n",
    "plt.show()\n",
    "\n",
    "print(\"intercept: %g, slope: %g\" % (intercept, slope))\n",
    "# r_value is the correlation coefficient (r_value ** 2.0 is the R^2 statistic), while p_value is the p-value measuring\n",
    "# the two-sided probability that the slope is 0\n",
    "print(\"R^2 statistic: %g, p-value: %g\" % (r_value**2.0, p_value))"
   ]
  },
  {
   "cell_type": "code",
   "execution_count": 16,
   "metadata": {
    "collapsed": false
   },
   "outputs": [
    {
     "data": {
      "image/png": "[encoded data removed]",
      "text/plain": [
       "<matplotlib.figure.Figure at 0x7f98f5db83c8>"
      ]
     },
     "metadata": {},
     "output_type": "display_data"
    },
    {
     "name": "stdout",
     "output_type": "stream",
     "text": [
      "intercept: 34.0384, slope: 10.5456\nR^2 statistic: 0.801522\n"
     ]
    }
   ],
   "source": [
    "# with sklearn\n",
    "\n",
    "# since version 0.17 sklearn deprecates ndarrays of shape (n_obs,). Instead, reshape them to (n_obs, 1).\n",
    "# setting -1 in reshape takes care of counting how many observations our ndarray has, without specifying it\n",
    "# explicitly.\n",
    "x_train = train[:, 0].reshape(-1, 1)\n",
    "y_train = train[:, 1].reshape(-1, 1)\n",
    "x_test = test[:, 0].reshape(-1, 1)\n",
    "y_test = test[:, 1].reshape(-1, 1)\n",
    "\n",
    "# create a LinearRegression object and fit it to the training data\n",
    "reg_mod = linear_model.LinearRegression(normalize=True)\n",
    "reg_mod.fit(x_train, y_train)\n",
    "\n",
    "# scatter is an alternative way to make scatter plots\n",
    "plt.scatter(x_test, y_test, color='cyan', label='original data')\n",
    "plt.plot(x_test, reg_mod.predict(x_test), color='red', linewidth=3, label='fitted line')\n",
    "plt.legend()\n",
    "plt.show()\n",
    "\n",
    "print(\"intercept: %g, slope: %g\" % (reg_mod.intercept_, reg_mod.coef_))\n",
    "# sklearn does not compute the p-value of the coefficients\n",
    "print(\"R^2 statistic: %g\" % reg_mod.score(x_test, y_test))"
   ]
  },
  {
   "cell_type": "code",
   "execution_count": 34,
   "metadata": {},
   "outputs": [
    {
     "data": {
      "image/png": "[encoded data removed]",
      "text/plain": [
       "<matplotlib.figure.Figure at 0x7f98fa009fd0>"
      ]
     },
     "metadata": {},
     "output_type": "display_data"
    },
    {
     "name": "stdout",
     "output_type": "stream",
     "text": [
      "intercept: 34.0384, slope: 10.5456\nR^2 statistic: 0.976561\n"
     ]
    }
   ],
   "source": [
    "#######################\n",
    "# 4. DO IT BY YOURSELF!\n",
    "#######################\n",
    "\n",
    "x_train = x_train.ravel()\n",
    "y_train = y_train.ravel()\n",
    "x_test = x_test.ravel()\n",
    "y_test = y_test.ravel()\n",
    "\n",
    "# add the column of the intercept to the matrix of observations\n",
    "# N.B. This work correctly if x_train has not the shape (n_obs,), otherwise it will concatenate the ones\n",
    "n_obs = x_train.shape[0]\n",
    "X = np.vstack((np.ones((n_obs,)), x_train)).T\n",
    "\n",
    "# estimate the parameters. the \"@\" operator perform matrix multiplication\n",
    "beta = np.linalg.inv(X.T @ X) @ (X.T @ y_train)\n",
    "\n",
    "y_predicted = beta[0] + beta[1] * x_test\n",
    "# y_predicted = beta[0] + beta[1] * x_train\n",
    "\n",
    "# plot the results\n",
    "plt.scatter(x_test, y_test, color='cyan', label='original data')\n",
    "plt.plot(x_test, y_predicted, color='red', linewidth=3, label='fitted line')\n",
    "plt.legend()\n",
    "plt.show()\n",
    "\n",
    "# print R^2 statistic\n",
    "M0 = np.eye(y_predicted.shape[0]) - 1/n_obs\n",
    "ESS = y_predicted.T @ M0 @ y_predicted\n",
    "TSS = y_test.T @ M0 @ y_test\n",
    "R2 = ESS/TSS\n",
    "\n",
    "# adj_R2 = 1 - ((1 - R2) * (n - 1) / (n - k - 1))\n",
    "print(\"intercept: %g, slope: %g\" % (beta[0], beta[1]))\n",
    "print(\"R^2 statistic: %g\" % R2)"
   ]
  },
  {
   "cell_type": "code",
   "execution_count": 33,
   "metadata": {},
   "outputs": [
    {
     "data": {
      "image/png": "[encoded data removed]",
      "text/plain": [
       "<matplotlib.figure.Figure at 0x7f98f5a42f98>"
      ]
     },
     "metadata": {},
     "output_type": "display_data"
    },
    {
     "name": "stdout",
     "output_type": "stream",
     "text": [
      "intercept: 34.0374, slope: 10.5459\nR^2 statistic: 0.814328\n"
     ]
    }
   ],
   "source": [
    "# if x_train is a huge matrix, the previous beta estimation cannot be done. Thus, we resort to\n",
    "# gradient descent methods\n",
    "\n",
    "\n",
    "def OLS_GD(X, y, alpha, batch_size=1, tol=1e-5, max_iter=10000):\n",
    "    \"\"\"\n",
    "       This function estimates the parameters for a\n",
    "       linear regression model using the stochastic\n",
    "       gradient descent (SGD) method.\n",
    "       :param X: the observation matrix.\n",
    "       :param y: the targets of the observations.\n",
    "       :param alpha: the learning parameter. Lower values\n",
    "              correspond to slower convergence but prevent\n",
    "              overshooting.\n",
    "       :param batch_size: the size of the batch to perform a\n",
    "              single update of the parameters. If\n",
    "              batch_size = 1 the algorithm performs the\n",
    "              stochastic gradient descent, if \n",
    "              batch_size >= X.shape[0] the algorithm \n",
    "              performs the batch gradient descent.\n",
    "       :param tol: the error tolerance. If the norm of\n",
    "              of the difference vector between\n",
    "              the parameter vectors at time t and\n",
    "              t - 1 is lower than tol, the \n",
    "              algorithm stops.\n",
    "       :param max_iter: the maximum number of\n",
    "              iterations. The algorithm stops\n",
    "              if this number of iterations is reached.\n",
    "       :return beta: the parameter vector\n",
    "       :return R2: the R^2 statistic\n",
    "    \"\"\"\n",
    "\n",
    "    # initialization of parameters\n",
    "    n = X.shape[0]\n",
    "    k = X.shape[1]\n",
    "    batches = range(0, n, batch_size)\n",
    "    beta = np.zeros((k,))\n",
    "    beta_old = np.full((k,), np.inf)\n",
    "    iterations = 0\n",
    "\n",
    "    while (np.linalg.norm(beta - beta_old) > tol) and (iterations < max_iter):\n",
    "        iterations += 1\n",
    "\n",
    "        # copy beta\n",
    "        beta_old = beta.copy()\n",
    "\n",
    "        # shuffle the batch to avoid bias\n",
    "        random.shuffle(batches)\n",
    "\n",
    "        for i in batches:\n",
    "            xs, ys = (X[i:(i + batch_size), :], y[i:(i + batch_size)])\n",
    "            beta += alpha * ((ys - xs @ beta) * xs.T).sum(1)\n",
    "\n",
    "    # compute predicted values and R^2 statistic\n",
    "    y_hat = X @ beta\n",
    "    M0 = np.eye(y_hat.shape[0]) - 1 / n_obs\n",
    "    ESS = y_hat @ M0 @ y_hat\n",
    "    TSS = y @ M0 @ y\n",
    "    R2 = ESS / TSS\n",
    "    return beta, R2\n",
    "\n",
    "\n",
    "beta, R2 = OLS_GD(X, y_train, 0.0005, batch_size=200, max_iter=10000)\n",
    "y_predicted = beta[0] + beta[1] * x_test\n",
    "\n",
    "# plot the results\n",
    "plt.scatter(x_test, y_test, color='cyan', label='original data')\n",
    "plt.plot(x_test, y_predicted, color='red', linewidth=3, label='fitted line')\n",
    "plt.legend()\n",
    "plt.show()\n",
    "\n",
    "print(\"intercept: %g, slope: %g\" % (beta[0], beta[1]))\n",
    "print(\"R^2 statistic: %g\" % R2)"
   ]
  },
  {
   "cell_type": "code",
   "execution_count": null,
   "metadata": {},
   "outputs": [],
   "source": [
    ""
   ]
  }
 ],
 "metadata": {
  "kernelspec": {
   "display_name": "Python 2",
   "language": "python",
   "name": "python2"
  },
  "language_info": {
   "codemirror_mode": {
    "name": "ipython",
    "version": 2.0
   },
   "file_extension": ".py",
   "mimetype": "text/x-python",
   "name": "python",
   "nbconvert_exporter": "python",
   "pygments_lexer": "ipython2",
   "version": "2.7.6"
  }
 },
 "nbformat": 4,
 "nbformat_minor": 0
}